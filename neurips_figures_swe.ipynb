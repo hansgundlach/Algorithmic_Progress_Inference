{
 "cells": [
  {
   "cell_type": "code",
   "execution_count": null,
   "id": "7a909c48",
   "metadata": {},
   "outputs": [],
   "source": [
    "import pandas as pd\n",
    "import numpy as np\n",
    "import matplotlib.pyplot as plt\n",
    "from datetime import datetime\n",
    "from matplotlib.dates import DateFormatter\n",
    "from sklearn.linear_model import LinearRegression, QuantileRegressor\n",
    "from statsmodels.regression.quantile_regression import QuantReg\n",
    "import statsmodels.api as sm\n",
    "import seaborn as sns\n",
    "import scienceplots\n",
    "from scipy import stats\n"
   ]
  },
  {
   "cell_type": "code",
   "execution_count": null,
   "id": "7563807d",
   "metadata": {},
   "outputs": [],
   "source": []
  },
  {
   "cell_type": "code",
   "execution_count": null,
   "id": "f4da68fe",
   "metadata": {},
   "outputs": [],
   "source": []
  }
 ],
 "metadata": {
  "language_info": {
   "name": "python"
  }
 },
 "nbformat": 4,
 "nbformat_minor": 5
}
